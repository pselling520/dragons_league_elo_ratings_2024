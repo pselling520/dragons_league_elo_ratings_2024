{
 "cells": [
  {
   "cell_type": "markdown",
   "id": "4911702c-4fe8-4cd1-bb3a-6abecee8c06f",
   "metadata": {},
   "source": [
    "# 2024 Elo and Luck Ratings\n",
    "\n",
    "## Load packages"
   ]
  },
  {
   "cell_type": "code",
   "execution_count": 1,
   "id": "aa900d86-0883-447e-b6e3-7f1dfe52a0a8",
   "metadata": {},
   "outputs": [],
   "source": [
    "import pandas as pd"
   ]
  },
  {
   "cell_type": "markdown",
   "id": "caa98196-38e8-441b-b3f5-41bac1286b83",
   "metadata": {},
   "source": [
    "## Initialize core dataframes"
   ]
  },
  {
   "cell_type": "code",
   "execution_count": 15,
   "id": "141225d6-1d65-43d9-bbf7-43d984400d34",
   "metadata": {},
   "outputs": [],
   "source": [
    "weekly_scores = pd.DataFrame(columns=['week','home','away','home_score','away_score'])\n",
    "elo_ratings = pd.DataFrame(columns=['week','manager','elo'])"
   ]
  },
  {
   "cell_type": "code",
   "execution_count": 16,
   "id": "67b18ad9-9020-43cd-8f75-0790ee9f21f9",
   "metadata": {},
   "outputs": [],
   "source": [
    "w1_g1 = [1, 'Nathan', 'Paul',   100.98, 112.86]\n",
    "w1_g2 = [1, 'Geoff',  'Clay',   88.92,  87.16]\n",
    "w1_g3 = [1, 'Aaron',  'David',  137.58, 138.88]\n",
    "w1_g4 = [1, 'Aidan',  'Bebe',   101.02, 85.08]  \n",
    "w1_g5 = [1, 'Thad',   'Jack',   84.86,  80.14]\n",
    "w1_g6 = [1, 'Fisher', 'Zander', 83.46, 123.9]\n",
    "\n",
    "w1_games = [w1_g1, w1_g2, w1_g3, w1_g4, w1_g5, w1_g6]"
   ]
  },
  {
   "cell_type": "code",
   "execution_count": 17,
   "id": "c9cfa7f3-181b-4614-ada4-578655a91c4e",
   "metadata": {},
   "outputs": [],
   "source": [
    "last_game_index = weekly_scores.shape[0]\n",
    "\n",
    "for game in w1_games:\n",
    "    weekly_scores.loc[last_game_index] = game\n",
    "    last_game_index += 1"
   ]
  },
  {
   "cell_type": "code",
   "execution_count": 18,
   "id": "3248746d-3ab3-4bc4-8b4f-771cf325723f",
   "metadata": {},
   "outputs": [
    {
     "data": {
      "text/html": [
       "<div>\n",
       "<style scoped>\n",
       "    .dataframe tbody tr th:only-of-type {\n",
       "        vertical-align: middle;\n",
       "    }\n",
       "\n",
       "    .dataframe tbody tr th {\n",
       "        vertical-align: top;\n",
       "    }\n",
       "\n",
       "    .dataframe thead th {\n",
       "        text-align: right;\n",
       "    }\n",
       "</style>\n",
       "<table border=\"1\" class=\"dataframe\">\n",
       "  <thead>\n",
       "    <tr style=\"text-align: right;\">\n",
       "      <th></th>\n",
       "      <th>week</th>\n",
       "      <th>home</th>\n",
       "      <th>away</th>\n",
       "      <th>home_score</th>\n",
       "      <th>away_score</th>\n",
       "    </tr>\n",
       "  </thead>\n",
       "  <tbody>\n",
       "    <tr>\n",
       "      <th>0</th>\n",
       "      <td>1</td>\n",
       "      <td>Nathan</td>\n",
       "      <td>Paul</td>\n",
       "      <td>100.98</td>\n",
       "      <td>112.86</td>\n",
       "    </tr>\n",
       "    <tr>\n",
       "      <th>1</th>\n",
       "      <td>1</td>\n",
       "      <td>Geoff</td>\n",
       "      <td>Clay</td>\n",
       "      <td>88.92</td>\n",
       "      <td>87.16</td>\n",
       "    </tr>\n",
       "    <tr>\n",
       "      <th>2</th>\n",
       "      <td>1</td>\n",
       "      <td>Aaron</td>\n",
       "      <td>David</td>\n",
       "      <td>137.58</td>\n",
       "      <td>138.88</td>\n",
       "    </tr>\n",
       "    <tr>\n",
       "      <th>3</th>\n",
       "      <td>1</td>\n",
       "      <td>Aidan</td>\n",
       "      <td>Bebe</td>\n",
       "      <td>101.02</td>\n",
       "      <td>85.08</td>\n",
       "    </tr>\n",
       "    <tr>\n",
       "      <th>4</th>\n",
       "      <td>1</td>\n",
       "      <td>Thad</td>\n",
       "      <td>Jack</td>\n",
       "      <td>84.86</td>\n",
       "      <td>80.14</td>\n",
       "    </tr>\n",
       "    <tr>\n",
       "      <th>5</th>\n",
       "      <td>1</td>\n",
       "      <td>Fisher</td>\n",
       "      <td>Zander</td>\n",
       "      <td>83.46</td>\n",
       "      <td>123.90</td>\n",
       "    </tr>\n",
       "  </tbody>\n",
       "</table>\n",
       "</div>"
      ],
      "text/plain": [
       "  week    home    away  home_score  away_score\n",
       "0    1  Nathan    Paul      100.98      112.86\n",
       "1    1   Geoff    Clay       88.92       87.16\n",
       "2    1   Aaron   David      137.58      138.88\n",
       "3    1   Aidan    Bebe      101.02       85.08\n",
       "4    1    Thad    Jack       84.86       80.14\n",
       "5    1  Fisher  Zander       83.46      123.90"
      ]
     },
     "execution_count": 18,
     "metadata": {},
     "output_type": "execute_result"
    }
   ],
   "source": [
    "weekly_scores"
   ]
  },
  {
   "cell_type": "code",
   "execution_count": 13,
   "id": "be02b828-892a-4586-ab6d-5756be0fd92d",
   "metadata": {},
   "outputs": [],
   "source": []
  },
  {
   "cell_type": "code",
   "execution_count": 19,
   "id": "1ee6dae5-41a5-4f95-8e49-470c1f5117cf",
   "metadata": {},
   "outputs": [],
   "source": [
    "elo_aaron_w1  = [1, 'Aaron',  1486]\n",
    "elo_aidan_w1  = [1, 'Aidan',  1514]\n",
    "elo_bebe_w1   = [1, 'Bebe',   1495]\n",
    "elo_clay_w1   = [1, 'Clay',   1477]\n",
    "elo_david_w1  = [1, 'David',  1450]\n",
    "elo_fisher_w1 = [1, 'Fisher', 1505]\n",
    "elo_geoff_w1  = [1, 'Geoff',  1532]\n",
    "elo_jack_w1   = [1, 'Jack',   1541]\n",
    "elo_thad_w1   = [1, 'Thad',   1468]\n",
    "elo_nathan_w1 = [1, 'Nathan', 1550]\n",
    "elo_paul_w1   = [1, 'Paul',   1523]\n",
    "elo_zander_w1 = [1, 'Zander', 1459]\n",
    "\n",
    "w1_elos = [elo_aaron_w1, elo_aidan_w1, elo_bebe_w1, elo_clay_w1,\n",
    "           elo_david_w1, elo_fisher_w1, elo_geoff_w1, elo_jack_w1,\n",
    "           elo_thad_w1, elo_nathan_w1, elo_paul_w1, elo_zander_w1]\n",
    "\n",
    "last_elo_index = elo_ratings.shape[0]\n",
    "\n",
    "for elo in w1_elos:\n",
    "    elo_ratings.loc[last_elo_index] = elo\n",
    "    last_elo_index +=1"
   ]
  },
  {
   "cell_type": "markdown",
   "id": "21667507-fb91-4722-a8bb-a508b6214ae3",
   "metadata": {},
   "source": [
    "## Functions"
   ]
  },
  {
   "cell_type": "code",
   "execution_count": 32,
   "id": "b77471e3-a1b3-4b8f-a71a-8ab235a317d2",
   "metadata": {},
   "outputs": [],
   "source": [
    "def get_elo_ratings(game, elo_df):\n",
    "    \"\"\" Returns the elo rating of the home team. \"\"\"\n",
    "    week = game[0]\n",
    "    home_manager = game[1]\n",
    "    away_manager = game[2]\n",
    "    \n",
    "    home_manager_elo = elo_df[(elo_df['week'] == week) & (elo_df['manager'] == home_manager)].iloc[0,2]\n",
    "    away_manager_elo = elo_df[(elo_df['week'] == week) & (elo_df['manager'] == away_manager)].iloc[0,2]\n",
    "    \n",
    "    return (home_manager_elo, away_manager_elo)"
   ]
  },
  {
   "cell_type": "code",
   "execution_count": 36,
   "id": "2686b592-89e2-4c43-acf8-a39cdac1ffe4",
   "metadata": {},
   "outputs": [
    {
     "data": {
      "text/plain": [
       "(1550, 1523)"
      ]
     },
     "execution_count": 36,
     "metadata": {},
     "output_type": "execute_result"
    }
   ],
   "source": [
    "get_elo_ratings(test_game, elo_ratings)"
   ]
  },
  {
   "cell_type": "code",
   "execution_count": 55,
   "id": "976740a1-daf2-4179-96dd-ba05bc899e5b",
   "metadata": {},
   "outputs": [],
   "source": [
    "def calculate_elo_win_probability(elo_tuple):\n",
    "    \"\"\" Calculates the win probability based on Elos for both the home and away team. \"\"\"\n",
    "    \n",
    "    home_elo = int(elo_tuple[0])\n",
    "    away_elo = int(elo_tuple[1])\n",
    "    \n",
    "    home_win_prob = 1 / (1 + 10**((away_elo - home_elo) / 400))\n",
    "    away_win_prob = 1 / (1 + 10**((home_elo - away_elo) / 400))\n",
    "    \n",
    "    return (home_win_prob, away_win_prob)"
   ]
  },
  {
   "cell_type": "code",
   "execution_count": 57,
   "id": "e09b2350-9eac-40c5-b08b-352ad21a65b9",
   "metadata": {},
   "outputs": [
    {
     "data": {
      "text/plain": [
       "week               1\n",
       "home          Nathan\n",
       "away            Paul\n",
       "home_score    100.98\n",
       "away_score    112.86\n",
       "Name: 0, dtype: object"
      ]
     },
     "execution_count": 57,
     "metadata": {},
     "output_type": "execute_result"
    }
   ],
   "source": [
    "test_game"
   ]
  },
  {
   "cell_type": "code",
   "execution_count": 66,
   "id": "84abfd38-982a-48dd-9125-ddc1426f8be0",
   "metadata": {},
   "outputs": [],
   "source": [
    "def determine_game_results(game):\n",
    "    \"\"\" Determines wins for each team from a game. \"\"\"\n",
    "    \n",
    "    home_wins = 0\n",
    "    away_wins = 0\n",
    "    \n",
    "    if (game[3] > game[4]):\n",
    "        home_wins += 1\n",
    "        \n",
    "    elif (game[3] < game[4]):\n",
    "        away_wins = 1\n",
    "        \n",
    "    else:\n",
    "        home_wins = 0.5\n",
    "        away_wins = 0.5\n",
    "        \n",
    "    return (home_wins, away_wins)"
   ]
  },
  {
   "cell_type": "code",
   "execution_count": 75,
   "id": "d79feb79-2848-4931-96cd-b394c8793874",
   "metadata": {},
   "outputs": [],
   "source": [
    "def get_outcome_elo_change(game, elo_df):\n",
    "    \"\"\"\n",
    "    Calculates the change in elo score for each team based on each team's elo entering the week\n",
    "    and the actual result of the week.\n",
    "    \"\"\"\n",
    "    \n",
    "    prior_elo_scores = get_elo_ratings(game, elo_df)\n",
    "    win_probabilities = calculate_elo_win_probability(prior_elo_scores)\n",
    "    game_outcome = determine_game_results(game)\n",
    "    \n",
    "    home_elo_change = 20 * (game_outcome[0] - win_probabilities[0])\n",
    "    away_elo_change = 20 * (game_outcome[1] - win_probabilities[1])\n",
    "    \n",
    "    \n",
    "    return (home_elo_change, away_elo_change)"
   ]
  },
  {
   "cell_type": "code",
   "execution_count": 76,
   "id": "d3b242de-95ef-4bfe-a43b-5747f75eb20d",
   "metadata": {},
   "outputs": [
    {
     "data": {
      "text/plain": [
       "(-10.77556184114343, 10.77556184114343)"
      ]
     },
     "execution_count": 76,
     "metadata": {},
     "output_type": "execute_result"
    }
   ],
   "source": [
    "get_outcome_elo_change(test_game, elo_ratings)"
   ]
  }
 ],
 "metadata": {
  "kernelspec": {
   "display_name": "Python 3 (ipykernel)",
   "language": "python",
   "name": "python3"
  },
  "language_info": {
   "codemirror_mode": {
    "name": "ipython",
    "version": 3
   },
   "file_extension": ".py",
   "mimetype": "text/x-python",
   "name": "python",
   "nbconvert_exporter": "python",
   "pygments_lexer": "ipython3",
   "version": "3.9.7"
  }
 },
 "nbformat": 4,
 "nbformat_minor": 5
}
